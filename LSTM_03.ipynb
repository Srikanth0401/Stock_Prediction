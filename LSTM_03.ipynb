{
 "cells": [
  {
   "cell_type": "markdown",
   "metadata": {
    "id": "HJZSHBjJ1ivj"
   },
   "source": [
    "### Importing Libraries"
   ]
  },
  {
   "cell_type": "code",
   "execution_count": 1,
   "metadata": {
    "id": "DrYeu2ZoZ5xe"
   },
   "outputs": [],
   "source": [
    "import requests\n",
    "import pandas as pd\n",
    "import matplotlib.pyplot as plt\n",
    "import seaborn as sns\n",
    "from io import StringIO\n",
    "from sklearn.preprocessing import StandardScaler"
   ]
  },
  {
   "cell_type": "code",
   "execution_count": 2,
   "metadata": {
    "id": "ERsK5Kef1hlc"
   },
   "outputs": [],
   "source": [
    "#fetching data from API key\n",
    "url =\"https://www.alphavantage.co/query?function=TIME_SERIES_DAILY&symbol=IBM&outputsize=full&apikey=PAFTB5LA6Y93BLPZ\"\n",
    "r = requests.get(url)\n",
    "data = r.json()\n",
    "\n",
    "# Extracting the time series data\n",
    "# The key for daily data is 'Time Series (Daily)' not 'Time Series (5min)'\n",
    "time_series_key = 'Time Series (Daily)'\n",
    "time_series_data = data[time_series_key]"
   ]
  },
  {
   "cell_type": "code",
   "execution_count": 3,
   "metadata": {
    "id": "zHVXh7uI0ZgT"
   },
   "outputs": [],
   "source": [
    "# Converting the time series data into a DataFrame\n",
    "df = pd.DataFrame.from_dict(time_series_data, orient='index')\n",
    "\n",
    "# Renaming the columns for better understanding\n",
    "df.columns = ['Open', 'High', 'Low', 'Close', 'Volume']"
   ]
  },
  {
   "cell_type": "code",
   "execution_count": 4,
   "metadata": {
    "colab": {
     "base_uri": "https://localhost:8080/"
    },
    "id": "G5dH2_Gi0eFt",
    "outputId": "d637ed9c-c24a-4fe2-c152-be95de3029eb"
   },
   "outputs": [
    {
     "name": "stdout",
     "output_type": "stream",
     "text": [
      "              Open      High       Low   Close     Volume\n",
      "2024-11-19  206.50  210.3300  206.1900  210.25  2860746.0\n",
      "2024-11-18  207.00  208.4150  205.3701  208.09  3406045.0\n",
      "2024-11-15  207.46  208.4900  204.0700  204.99  3986460.0\n",
      "2024-11-14  210.00  210.4999  206.3500  208.99  6372853.0\n",
      "2024-11-13  209.50  211.4100  209.0701  210.92  3247830.0\n"
     ]
    }
   ],
   "source": [
    "# Converting the index to datetime\n",
    "df.index = pd.to_datetime(df.index)\n",
    "\n",
    "# Convert the data types from string to float for numerical calculations\n",
    "df = df.astype(float)\n",
    "\n",
    "# Display the DataFrame\n",
    "print(df.head())"
   ]
  },
  {
   "cell_type": "code",
   "execution_count": 5,
   "metadata": {
    "colab": {
     "base_uri": "https://localhost:8080/"
    },
    "id": "LQDq_6HGaLXI",
    "outputId": "10b6e984-9bb5-40eb-d815-149b628dd1cb"
   },
   "outputs": [
    {
     "data": {
      "text/plain": [
       "(6304, 5)"
      ]
     },
     "execution_count": 5,
     "metadata": {},
     "output_type": "execute_result"
    }
   ],
   "source": [
    "df.shape"
   ]
  },
  {
   "cell_type": "code",
   "execution_count": 6,
   "metadata": {
    "colab": {
     "base_uri": "https://localhost:8080/",
     "height": 300
    },
    "id": "9PRSdlr6aNSS",
    "outputId": "5ca358df-1f0d-4e6b-a50d-4b2e5ed71c7d"
   },
   "outputs": [
    {
     "data": {
      "text/html": [
       "<div>\n",
       "<style scoped>\n",
       "    .dataframe tbody tr th:only-of-type {\n",
       "        vertical-align: middle;\n",
       "    }\n",
       "\n",
       "    .dataframe tbody tr th {\n",
       "        vertical-align: top;\n",
       "    }\n",
       "\n",
       "    .dataframe thead th {\n",
       "        text-align: right;\n",
       "    }\n",
       "</style>\n",
       "<table border=\"1\" class=\"dataframe\">\n",
       "  <thead>\n",
       "    <tr style=\"text-align: right;\">\n",
       "      <th></th>\n",
       "      <th>Open</th>\n",
       "      <th>High</th>\n",
       "      <th>Low</th>\n",
       "      <th>Close</th>\n",
       "      <th>Volume</th>\n",
       "    </tr>\n",
       "  </thead>\n",
       "  <tbody>\n",
       "    <tr>\n",
       "      <th>count</th>\n",
       "      <td>6304.000000</td>\n",
       "      <td>6304.000000</td>\n",
       "      <td>6304.000000</td>\n",
       "      <td>6304.000000</td>\n",
       "      <td>6.304000e+03</td>\n",
       "    </tr>\n",
       "    <tr>\n",
       "      <th>mean</th>\n",
       "      <td>131.942635</td>\n",
       "      <td>133.132637</td>\n",
       "      <td>130.830856</td>\n",
       "      <td>132.005088</td>\n",
       "      <td>5.894691e+06</td>\n",
       "    </tr>\n",
       "    <tr>\n",
       "      <th>std</th>\n",
       "      <td>36.577422</td>\n",
       "      <td>36.653253</td>\n",
       "      <td>36.505323</td>\n",
       "      <td>36.595067</td>\n",
       "      <td>3.297745e+06</td>\n",
       "    </tr>\n",
       "    <tr>\n",
       "      <th>min</th>\n",
       "      <td>54.650000</td>\n",
       "      <td>56.700000</td>\n",
       "      <td>54.010000</td>\n",
       "      <td>55.070000</td>\n",
       "      <td>1.928430e+05</td>\n",
       "    </tr>\n",
       "    <tr>\n",
       "      <th>25%</th>\n",
       "      <td>101.500000</td>\n",
       "      <td>103.170000</td>\n",
       "      <td>100.022500</td>\n",
       "      <td>101.822500</td>\n",
       "      <td>3.732422e+06</td>\n",
       "    </tr>\n",
       "    <tr>\n",
       "      <th>50%</th>\n",
       "      <td>129.015000</td>\n",
       "      <td>129.975000</td>\n",
       "      <td>127.945000</td>\n",
       "      <td>129.050000</td>\n",
       "      <td>5.049797e+06</td>\n",
       "    </tr>\n",
       "    <tr>\n",
       "      <th>75%</th>\n",
       "      <td>156.755000</td>\n",
       "      <td>158.095000</td>\n",
       "      <td>155.405000</td>\n",
       "      <td>156.712500</td>\n",
       "      <td>7.091250e+06</td>\n",
       "    </tr>\n",
       "    <tr>\n",
       "      <th>max</th>\n",
       "      <td>236.400000</td>\n",
       "      <td>237.370000</td>\n",
       "      <td>233.170000</td>\n",
       "      <td>235.260000</td>\n",
       "      <td>4.120730e+07</td>\n",
       "    </tr>\n",
       "  </tbody>\n",
       "</table>\n",
       "</div>"
      ],
      "text/plain": [
       "              Open         High          Low        Close        Volume\n",
       "count  6304.000000  6304.000000  6304.000000  6304.000000  6.304000e+03\n",
       "mean    131.942635   133.132637   130.830856   132.005088  5.894691e+06\n",
       "std      36.577422    36.653253    36.505323    36.595067  3.297745e+06\n",
       "min      54.650000    56.700000    54.010000    55.070000  1.928430e+05\n",
       "25%     101.500000   103.170000   100.022500   101.822500  3.732422e+06\n",
       "50%     129.015000   129.975000   127.945000   129.050000  5.049797e+06\n",
       "75%     156.755000   158.095000   155.405000   156.712500  7.091250e+06\n",
       "max     236.400000   237.370000   233.170000   235.260000  4.120730e+07"
      ]
     },
     "execution_count": 6,
     "metadata": {},
     "output_type": "execute_result"
    }
   ],
   "source": [
    "df.describe(include='all')"
   ]
  },
  {
   "cell_type": "code",
   "execution_count": 7,
   "metadata": {
    "colab": {
     "base_uri": "https://localhost:8080/"
    },
    "id": "0eVUQAQhp0vN",
    "outputId": "2b176182-6389-4c11-9d44-fe1e19d1ff2b"
   },
   "outputs": [
    {
     "name": "stdout",
     "output_type": "stream",
     "text": [
      "<class 'pandas.core.frame.DataFrame'>\n",
      "DatetimeIndex: 6304 entries, 2024-11-19 to 1999-11-01\n",
      "Data columns (total 5 columns):\n",
      " #   Column  Non-Null Count  Dtype  \n",
      "---  ------  --------------  -----  \n",
      " 0   Open    6304 non-null   float64\n",
      " 1   High    6304 non-null   float64\n",
      " 2   Low     6304 non-null   float64\n",
      " 3   Close   6304 non-null   float64\n",
      " 4   Volume  6304 non-null   float64\n",
      "dtypes: float64(5)\n",
      "memory usage: 295.5 KB\n"
     ]
    }
   ],
   "source": [
    "df.info()"
   ]
  },
  {
   "cell_type": "markdown",
   "metadata": {
    "id": "9u68is_IqEAX"
   },
   "source": [
    "### Data Cleaning"
   ]
  },
  {
   "cell_type": "code",
   "execution_count": 8,
   "metadata": {
    "colab": {
     "base_uri": "https://localhost:8080/"
    },
    "id": "tf1KHUf4qBoS",
    "outputId": "b01027b6-ba61-48ac-a648-fbf247d969e5"
   },
   "outputs": [
    {
     "name": "stdout",
     "output_type": "stream",
     "text": [
      "\n",
      "Missing values in each column:\n",
      "Open      0\n",
      "High      0\n",
      "Low       0\n",
      "Close     0\n",
      "Volume    0\n",
      "dtype: int64\n"
     ]
    }
   ],
   "source": [
    "#checking missing values in each column\n",
    "print(\"\\nMissing values in each column:\")\n",
    "print(df.isnull().sum())"
   ]
  },
  {
   "cell_type": "code",
   "execution_count": 9,
   "metadata": {
    "colab": {
     "base_uri": "https://localhost:8080/"
    },
    "id": "iw5dZvCnqG9J",
    "outputId": "55164ee7-33ae-4ee5-a21d-0036a01d13b4"
   },
   "outputs": [
    {
     "name": "stdout",
     "output_type": "stream",
     "text": [
      "\n",
      "Number of duplicate rows: 0\n"
     ]
    }
   ],
   "source": [
    "#Checking for duplicate values\n",
    "duplicate_rows = df.duplicated()\n",
    "num_duplicates = duplicate_rows.sum()\n",
    "print(f\"\\nNumber of duplicate rows: {num_duplicates}\")"
   ]
  },
  {
   "cell_type": "code",
   "execution_count": 10,
   "metadata": {
    "id": "NZzoRccwqu2n"
   },
   "outputs": [],
   "source": [
    "# Checking for outliers using the IQR method\n",
    "def detect_outliers_iqr(data):\n",
    "    Q1 = data.quantile(0.25)\n",
    "    Q3 = data.quantile(0.75)\n",
    "    IQR = Q3 - Q1\n",
    "    lower_bound = Q1 - 1.5 * IQR\n",
    "    upper_bound = Q3 + 1.5 * IQR\n",
    "    return (data < lower_bound) | (data > upper_bound)"
   ]
  },
  {
   "cell_type": "code",
   "execution_count": 11,
   "metadata": {
    "id": "PL8aI7Vxq0Ui"
   },
   "outputs": [],
   "source": [
    "# Identify outliers for numerical columns\n",
    "outliers = {}\n",
    "for column in ['Open', 'High', 'Low', 'Close', 'Volume']:\n",
    "    outliers[column] = df[detect_outliers_iqr(df[column])]"
   ]
  },
  {
   "cell_type": "code",
   "execution_count": 12,
   "metadata": {
    "colab": {
     "base_uri": "https://localhost:8080/"
    },
    "id": "TivdYiCnq2jZ",
    "outputId": "2ffba9ef-9b59-49b0-874d-e2aaa859c657"
   },
   "outputs": [
    {
     "name": "stdout",
     "output_type": "stream",
     "text": [
      "\n",
      "Outliers in column 'Volume':\n",
      "              Open    High     Low   Close      Volume\n",
      "2024-04-25  168.20  172.45  165.66  168.91  16702150.0\n",
      "2024-01-25  184.96  196.90  184.83  190.43  29596239.0\n",
      "2023-03-17  124.08  124.52  122.93  123.69  37400167.0\n",
      "2023-01-26  137.53  138.27  132.98  134.45  17548483.0\n",
      "2022-10-20  126.25  128.96  125.15  128.30  13623115.0\n",
      "...            ...     ...     ...     ...         ...\n",
      "1999-11-22  105.50  108.44  104.44  107.87  13681600.0\n",
      "1999-11-19   99.00  105.12   98.37  103.94  19678400.0\n",
      "1999-11-18   94.00   98.25   93.56   98.00  18720500.0\n",
      "1999-11-05   92.75   92.94   90.19   90.25  13737600.0\n",
      "1999-11-04   94.44   94.44   90.00   91.56  16697600.0\n",
      "\n",
      "[305 rows x 5 columns]\n"
     ]
    }
   ],
   "source": [
    "# Displaying outliers\n",
    "for column, outlier_rows in outliers.items():\n",
    "    if not outlier_rows.empty:\n",
    "        print(f\"\\nOutliers in column '{column}':\")\n",
    "        print(outlier_rows)"
   ]
  },
  {
   "cell_type": "code",
   "execution_count": 13,
   "metadata": {
    "colab": {
     "base_uri": "https://localhost:8080/",
     "height": 477
    },
    "id": "YWUhdapAq44x",
    "outputId": "e772f2d8-2b1e-40a1-8185-b819ee6b81d4"
   },
   "outputs": [
    {
     "data": {
      "image/png": "[encoded data removed]",
      "text/plain": [
       "<Figure size 1200x500 with 5 Axes>"
      ]
     },
     "metadata": {},
     "output_type": "display_data"
    }
   ],
   "source": [
    "#displaying outliers using boxplots\n",
    "plt.figure(figsize=(12,5))\n",
    "for i, column in enumerate(['Open', 'High', 'Low', 'Close', 'Volume'], start=1):\n",
    "    plt.subplot(2, 3, i)\n",
    "    sns.boxplot(y=df[column])\n",
    "    plt.title(f'Boxplot of {column}')\n",
    "    plt.ylabel(column)\n",
    "\n",
    "plt.tight_layout()\n",
    "plt.show()"
   ]
  },
  {
   "cell_type": "markdown",
   "metadata": {
    "id": "y7b60T4dzEak"
   },
   "source": [
    "## Data Preprocessing"
   ]
  },
  {
   "cell_type": "markdown",
   "metadata": {
    "id": "YUL8Put_z60T"
   },
   "source": [
    "### Feature Scaling"
   ]
  },
  {
   "cell_type": "code",
   "execution_count": 14,
   "metadata": {
    "id": "VkLF_oPMzDyj"
   },
   "outputs": [],
   "source": [
    "# Select numerical columns for scaling\n",
    "numerical_cols = df.columns[1:]  # Skipping the 'Date' column"
   ]
  },
  {
   "cell_type": "code",
   "execution_count": 15,
   "metadata": {
    "colab": {
     "base_uri": "https://localhost:8080/"
    },
    "id": "Dl3ST-E30OdL",
    "outputId": "46bb6e98-e34f-408a-b0a4-eeb3eb831d39"
   },
   "outputs": [
    {
     "name": "stdout",
     "output_type": "stream",
     "text": [
      "\n",
      "Scaled DataFrame:\n",
      "              Open      High       Low     Close    Volume\n",
      "2024-11-19  206.50  2.106320  2.064497  2.138297 -0.920079\n",
      "2024-11-18  207.00  2.054070  2.042035  2.079268 -0.754711\n",
      "2024-11-15  207.46  2.056116  2.006418  1.994550 -0.578693\n",
      "2024-11-14  210.00  2.110956  2.068880  2.103863  0.145008\n",
      "2024-11-13  209.50  2.135788  2.143398  2.156607 -0.802691\n",
      "...            ...       ...       ...       ...       ...\n",
      "1999-11-05   92.75 -1.096651 -1.113374 -1.141094  2.378453\n",
      "1999-11-04   94.44 -1.055724 -1.118579 -1.105294  3.276107\n",
      "1999-11-03   95.87 -1.014796 -1.022695 -1.028501  1.356916\n",
      "1999-11-02   96.75 -0.991059 -1.017490 -1.016477  1.580208\n",
      "1999-11-01   98.50 -0.936489 -0.944070 -0.963460  1.109060\n",
      "\n",
      "[6304 rows x 5 columns]\n"
     ]
    }
   ],
   "source": [
    "# Initializing the StandardScaler\n",
    "scaler = StandardScaler()\n",
    "\n",
    "# Fitting and transforming the numerical columns\n",
    "df[numerical_cols] = scaler.fit_transform(df[numerical_cols])\n",
    "\n",
    "# Displaying the scaled DataFrame\n",
    "print(\"\\nScaled DataFrame:\")\n",
    "print(df)"
   ]
  },
  {
   "cell_type": "code",
   "execution_count": null,
   "metadata": {
    "id": "mxrFvybQ0T4N"
   },
   "outputs": [],
   "source": []
  }
 ],
 "metadata": {
  "colab": {
   "provenance": []
  },
  "kernelspec": {
   "display_name": "Python 3 (ipykernel)",
   "language": "python",
   "name": "python3"
  },
  "language_info": {
   "codemirror_mode": {
    "name": "ipython",
    "version": 3
   },
   "file_extension": ".py",
   "mimetype": "text/x-python",
   "name": "python",
   "nbconvert_exporter": "python",
   "pygments_lexer": "ipython3",
   "version": "3.13.0"
  }
 },
 "nbformat": 4,
 "nbformat_minor": 4
}
